{
  "nbformat": 4,
  "nbformat_minor": 0,
  "metadata": {
    "colab": {
      "provenance": [],
      "authorship_tag": "ABX9TyNYN/ThOchjggKPyQwvONnj",
      "include_colab_link": true
    },
    "kernelspec": {
      "name": "python3",
      "display_name": "Python 3"
    },
    "language_info": {
      "name": "python"
    }
  },
  "cells": [
    {
      "cell_type": "markdown",
      "metadata": {
        "id": "view-in-github",
        "colab_type": "text"
      },
      "source": [
        "<a href=\"https://colab.research.google.com/github/10jsc/jsc/blob/main/Sorteio_Loto_IAAlura.ipynb\" target=\"_parent\"><img src=\"https://colab.research.google.com/assets/colab-badge.svg\" alt=\"Open In Colab\"/></a>"
      ]
    },
    {
      "cell_type": "code",
      "source": [
        "#Instalando o SDK do Google\n",
        "!pip install -q -U google-generativeai"
      ],
      "metadata": {
        "id": "Rcc1lg_aMkBf"
      },
      "execution_count": 10,
      "outputs": []
    },
    {
      "cell_type": "code",
      "source": [
        "import google.generativeai as genai\n",
        "\n",
        "GOOGLE_API_KEY=\"secret_jsc\"\n",
        "genai.configure(api_key=GOOGLE_API_KEY)"
      ],
      "metadata": {
        "id": "NSKSE8kiNWBI"
      },
      "execution_count": 9,
      "outputs": []
    },
    {
      "cell_type": "code",
      "source": [
        "import random\n",
        "import json\n",
        "from collections import Counter\n",
        "import matplotlib.pyplot as plt\n",
        "\n",
        "# Define a quantidade de números a serem sorteados\n",
        "NUMEROS_SORTEADOS = 15\n",
        "\n",
        "# Cria uma lista com os números de 1 a 25\n",
        "numeros = list(range(1, 26))\n",
        "\n",
        "# Carrega os resultados anteriores do arquivo JSON, se existir\n",
        "try:\n",
        "    with open(\"resultados_sorteios.json\", \"r\") as f:\n",
        "        resultados_anteriores = json.load(f)\n",
        "except FileNotFoundError:\n",
        "    resultados_anteriores = []\n",
        "\n",
        "def realizar_sorteio():\n",
        "    \"\"\"Realiza um novo sorteio, garantindo que não seja repetido.\"\"\"\n",
        "    global resultados_anteriores\n",
        "    while True:\n",
        "        sorteio = random.sample(numeros, NUMEROS_SORTEADOS)\n",
        "        if sorteio not in resultados_anteriores:\n",
        "            resultados_anteriores.append(sorteio)\n",
        "            print(f\"Os números sorteados são: {sorteio}\")\n",
        "            return sorteio\n",
        "        else:\n",
        "            print(\"Sorteio repetido, tentando novamente...\")\n",
        "\n",
        "def salvar_resultados():\n",
        "    \"\"\"Salva todos os resultados dos sorteios em um arquivo JSON.\"\"\"\n",
        "    with open(\"resultados_sorteios.json\", \"w\") as f:\n",
        "        json.dump(resultados_anteriores, f)\n",
        "\n",
        "def analisar_frequencia():\n",
        "    \"\"\"Analisa a frequência de números nos sorteios.\"\"\"\n",
        "    todos_numeros = [num for sublista in resultados_anteriores for num in sublista]\n",
        "    contagem = Counter(todos_numeros)\n",
        "    mais_comuns = contagem.most_common(NUMEROS_SORTEADOS)  # Números mais comuns\n",
        "    menos_comuns = contagem.most_common()[:-NUMEROS_SORTEADOS-1:-1]  # Números menos comuns\n",
        "    return mais_comuns, menos_comuns\n",
        "\n",
        "def realizar_sorteio_especifico(numeros_disponiveis):\n",
        "    \"\"\"Realiza um sorteio usando apenas os números fornecidos.\"\"\"\n",
        "    sorteio = random.sample(numeros_disponiveis, NUMEROS_SORTEADOS)\n",
        "    print(f\"Os números sorteados são: {sorteio}\")\n",
        "    return sorteio\n",
        "\n",
        "def plotar_grafico(data, titulo):\n",
        "    \"\"\"Plota um gráfico de barras com a frequência dos números.\"\"\"\n",
        "    numeros, frequencias = zip(*data)\n",
        "    plt.figure(figsize=(7.5, 3))  # Reduzimos o tamanho pela metade\n",
        "    plt.bar(numeros, frequencias)\n",
        "    plt.xlabel(\"Números\")\n",
        "    plt.ylabel(\"Frequência\")\n",
        "    plt.title(titulo)\n",
        "    plt.xticks(numeros)\n",
        "    plt.show()\n",
        "\n",
        "def chatbot():\n",
        "    \"\"\"Interage com o usuário para realizar e comparar sorteios.\"\"\"\n",
        "    while True:\n",
        "        print(\"\\nOlá! O que você deseja fazer?\")\n",
        "        print(\"1: Realizar novo sorteio\")\n",
        "        print(\"2: Analisar frequência dos números\")\n",
        "        print(\"3: Realizar sorteio com os números que mais sairam\")\n",
        "        print(\"4: Realizar sorteio com os números que menos sairam\")\n",
        "        print(\"5: Sair\")\n",
        "        opcao = input(\"Digite a opção desejada: \")\n",
        "        if opcao == '1':\n",
        "            sorteio = realizar_sorteio()\n",
        "            salvar_resultados()\n",
        "            print(\"Sorteio realizado com sucesso!\")\n",
        "        elif opcao == '2':\n",
        "            if not resultados_anteriores:\n",
        "                print(\"Realize pelo menos um sorteio antes de analisar a frequência.\")\n",
        "                continue\n",
        "            mais_comuns, menos_comuns = analisar_frequencia()\n",
        "            print(\"Números que mais sairam:\")\n",
        "            for numero, frequencia in mais_comuns:\n",
        "                print(f\"{numero}: {frequencia} vezes\")\n",
        "            print(\"\\nNúmeros que menos sairam:\")\n",
        "            for numero, frequencia in menos_comuns:\n",
        "                print(f\"{numero}: {frequencia} vezes\")\n",
        "            plotar_grafico(mais_comuns, \"Números que Mais Sairam\")\n",
        "            plotar_grafico(menos_comuns, \"Números que Menos Sairam\")\n",
        "        elif opcao == '3':\n",
        "            if not resultados_anteriores:\n",
        "                print(\"Realize pelo menos um sorteio antes de realizar este sorteio.\")\n",
        "                continue\n",
        "            mais_comuns, _ = analisar_frequencia()\n",
        "            numeros_mais_comuns = [numero for numero, _ in mais_comuns]\n",
        "            realizar_sorteio_especifico(numeros_mais_comuns)\n",
        "        elif opcao == '4':\n",
        "            if not resultados_anteriores:\n",
        "                print(\"Realize pelo menos um sorteio antes de realizar este sorteio.\")\n",
        "                continue\n",
        "            _, menos_comuns = analisar_frequencia()\n",
        "            numeros_menos_comuns = [numero for numero, _ in menos_comuns]\n",
        "            realizar_sorteio_especifico(numeros_menos_comuns)\n",
        "        elif opcao == '5':\n",
        "            print(\"Boa sorte! Você pode ganhar. JSC sabe em qual JG!!.\")\n",
        "            break\n",
        "        else:\n",
        "            print(\"Opção inválida. Tente novamente.\")\n",
        "\n",
        "# Realiza dois sorteios iniciais\n",
        "realizar_sorteio()\n",
        "realizar_sorteio()\n",
        "salvar_resultados()\n",
        "\n",
        "# Inicia o chatbot\n",
        "chatbot()"
      ],
      "metadata": {
        "colab": {
          "base_uri": "https://localhost:8080/",
          "height": 1000
        },
        "id": "HHZAdZo2xVQD",
        "outputId": "4927b800-a409-47c5-9b45-bd6608d16895"
      },
      "execution_count": 8,
      "outputs": [
        {
          "output_type": "stream",
          "name": "stdout",
          "text": [
            "Os números sorteados são: [22, 21, 2, 9, 17, 5, 10, 13, 20, 6, 14, 12, 8, 24, 18]\n",
            "Os números sorteados são: [8, 16, 4, 12, 17, 19, 5, 2, 20, 25, 14, 7, 6, 23, 21]\n",
            "\n",
            "Olá! O que você deseja fazer?\n",
            "1: Realizar novo sorteio\n",
            "2: Analisar frequência dos números\n",
            "3: Realizar sorteio com os números que mais sairam\n",
            "4: Realizar sorteio com os números que menos sairam\n",
            "5: Sair\n",
            "Digite a opção desejada: 1\n",
            "Os números sorteados são: [11, 1, 4, 21, 2, 24, 17, 7, 23, 16, 9, 20, 15, 12, 5]\n",
            "Sorteio realizado com sucesso!\n",
            "\n",
            "Olá! O que você deseja fazer?\n",
            "1: Realizar novo sorteio\n",
            "2: Analisar frequência dos números\n",
            "3: Realizar sorteio com os números que mais sairam\n",
            "4: Realizar sorteio com os números que menos sairam\n",
            "5: Sair\n",
            "Digite a opção desejada: 1\n",
            "Os números sorteados são: [12, 8, 11, 5, 16, 19, 17, 22, 15, 23, 20, 25, 18, 1, 3]\n",
            "Sorteio realizado com sucesso!\n",
            "\n",
            "Olá! O que você deseja fazer?\n",
            "1: Realizar novo sorteio\n",
            "2: Analisar frequência dos números\n",
            "3: Realizar sorteio com os números que mais sairam\n",
            "4: Realizar sorteio com os números que menos sairam\n",
            "5: Sair\n",
            "Digite a opção desejada: 2\n",
            "Números que mais sairam:\n",
            "6: 16 vezes\n",
            "12: 14 vezes\n",
            "15: 14 vezes\n",
            "2: 14 vezes\n",
            "5: 14 vezes\n",
            "21: 13 vezes\n",
            "19: 12 vezes\n",
            "23: 11 vezes\n",
            "11: 11 vezes\n",
            "16: 11 vezes\n",
            "8: 11 vezes\n",
            "14: 11 vezes\n",
            "13: 10 vezes\n",
            "9: 10 vezes\n",
            "22: 10 vezes\n",
            "\n",
            "Números que menos sairam:\n",
            "24: 7 vezes\n",
            "25: 7 vezes\n",
            "10: 8 vezes\n",
            "4: 8 vezes\n",
            "1: 9 vezes\n",
            "3: 9 vezes\n",
            "17: 10 vezes\n",
            "20: 10 vezes\n",
            "18: 10 vezes\n",
            "7: 10 vezes\n",
            "22: 10 vezes\n",
            "9: 10 vezes\n",
            "13: 10 vezes\n",
            "14: 11 vezes\n",
            "8: 11 vezes\n"
          ]
        },
        {
          "output_type": "display_data",
          "data": {
            "text/plain": [
              "<Figure size 750x300 with 1 Axes>"
            ],
            "image/png": "[encoded data removed]"
          },
          "metadata": {}
        },
        {
          "output_type": "display_data",
          "data": {
            "text/plain": [
              "<Figure size 750x300 with 1 Axes>"
            ],
            "image/png": "[encoded data removed]"
          },
          "metadata": {}
        },
        {
          "output_type": "stream",
          "name": "stdout",
          "text": [
            "\n",
            "Olá! O que você deseja fazer?\n",
            "1: Realizar novo sorteio\n",
            "2: Analisar frequência dos números\n",
            "3: Realizar sorteio com os números que mais sairam\n",
            "4: Realizar sorteio com os números que menos sairam\n",
            "5: Sair\n",
            "Digite a opção desejada: 5\n",
            "Boa sorte! Você pode ganhar. JSC sabe em qual JG!!.\n"
          ]
        }
      ]
    }
  ]
}